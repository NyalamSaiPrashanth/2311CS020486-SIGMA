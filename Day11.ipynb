{
 "cells": [
  {
   "cell_type": "code",
   "execution_count": 1,
   "id": "f9567b25-a6d1-4551-90b6-860ebdaa4598",
   "metadata": {},
   "outputs": [],
   "source": [
    "import pandas as pd\n",
    "import numpy as np"
   ]
  },
  {
   "cell_type": "code",
   "execution_count": 3,
   "id": "11670df5-d577-46af-8fab-77f6f42f421d",
   "metadata": {},
   "outputs": [],
   "source": [
    "a=np.array([20,46,87,6,3,4,9,454,96,3])\n"
   ]
  },
  {
   "cell_type": "code",
   "execution_count": 5,
   "id": "7812cbfa-1618-4c4a-a1f7-51d2999f0c49",
   "metadata": {},
   "outputs": [
    {
     "data": {
      "text/plain": [
       "array([ 20,  46,  87,   6,   3,   4,   9, 454,  96,   3])"
      ]
     },
     "execution_count": 5,
     "metadata": {},
     "output_type": "execute_result"
    }
   ],
   "source": [
    "a"
   ]
  },
  {
   "cell_type": "code",
   "execution_count": 7,
   "id": "1c751080-8fc4-4819-a01d-851399019cb6",
   "metadata": {},
   "outputs": [
    {
     "data": {
      "text/plain": [
       "array([ 4,  3,  6, 87, 46, 20])"
      ]
     },
     "execution_count": 7,
     "metadata": {},
     "output_type": "execute_result"
    }
   ],
   "source": [
    "a[-5:-12:-1]"
   ]
  },
  {
   "cell_type": "code",
   "execution_count": 9,
   "id": "d9b0b825-4776-4ea4-8d36-04ff56741ad3",
   "metadata": {},
   "outputs": [
    {
     "data": {
      "text/plain": [
       "1"
      ]
     },
     "execution_count": 9,
     "metadata": {},
     "output_type": "execute_result"
    }
   ],
   "source": [
    "a.ndim"
   ]
  },
  {
   "cell_type": "code",
   "execution_count": 11,
   "id": "ac0fd99a-629e-4b72-ad22-42d5a4698115",
   "metadata": {},
   "outputs": [],
   "source": [
    "b=np.random.randint(45,70,(7,8))"
   ]
  },
  {
   "cell_type": "code",
   "execution_count": 13,
   "id": "bea50ddf-0b3a-446d-adea-13a9511cd311",
   "metadata": {},
   "outputs": [
    {
     "data": {
      "text/plain": [
       "array([[60, 69, 65, 52, 49, 52, 50, 53],\n",
       "       [65, 60, 65, 48, 59, 46, 69, 46],\n",
       "       [66, 59, 49, 60, 55, 55, 51, 55],\n",
       "       [60, 56, 58, 60, 55, 49, 57, 55],\n",
       "       [65, 50, 63, 64, 54, 52, 59, 49],\n",
       "       [68, 45, 47, 50, 63, 61, 60, 67],\n",
       "       [56, 59, 64, 63, 69, 45, 48, 48]])"
      ]
     },
     "execution_count": 13,
     "metadata": {},
     "output_type": "execute_result"
    }
   ],
   "source": [
    "b"
   ]
  },
  {
   "cell_type": "code",
   "execution_count": 15,
   "id": "28db6a2b-6bfe-4e89-9fae-84584b0e99e2",
   "metadata": {},
   "outputs": [
    {
     "data": {
      "text/plain": [
       "array([60, 56, 58, 60, 55, 49, 57, 55])"
      ]
     },
     "execution_count": 15,
     "metadata": {},
     "output_type": "execute_result"
    }
   ],
   "source": [
    "b[-4]"
   ]
  },
  {
   "cell_type": "code",
   "execution_count": 17,
   "id": "9aa68d4f-a8d3-4170-a214-ff31dda5f424",
   "metadata": {},
   "outputs": [
    {
     "data": {
      "text/plain": [
       "2"
      ]
     },
     "execution_count": 17,
     "metadata": {},
     "output_type": "execute_result"
    }
   ],
   "source": [
    "b.ndim"
   ]
  },
  {
   "cell_type": "code",
   "execution_count": 19,
   "id": "9442908c-a967-462f-afc7-ef873379fd1d",
   "metadata": {},
   "outputs": [
    {
     "data": {
      "text/plain": [
       "array([56, 59, 64, 63, 69, 45, 48, 48])"
      ]
     },
     "execution_count": 19,
     "metadata": {},
     "output_type": "execute_result"
    }
   ],
   "source": [
    "b[-1]"
   ]
  },
  {
   "cell_type": "code",
   "execution_count": 21,
   "id": "11e1a1ad-18ef-4b6f-b790-54e6dad9af3d",
   "metadata": {},
   "outputs": [
    {
     "data": {
      "text/plain": [
       "array([49, 59, 55, 55, 54, 63, 69])"
      ]
     },
     "execution_count": 21,
     "metadata": {},
     "output_type": "execute_result"
    }
   ],
   "source": [
    "b[:,4]"
   ]
  },
  {
   "cell_type": "code",
   "execution_count": 23,
   "id": "04093b93-b321-41d0-84f9-b36974139084",
   "metadata": {},
   "outputs": [
    {
     "data": {
      "text/plain": [
       "60"
      ]
     },
     "execution_count": 23,
     "metadata": {},
     "output_type": "execute_result"
    }
   ],
   "source": [
    "b[5,6] #5th row and 6 column"
   ]
  },
  {
   "cell_type": "code",
   "execution_count": 47,
   "id": "9219f646-fc96-4bbe-85a2-14d07bc5e85d",
   "metadata": {},
   "outputs": [
    {
     "data": {
      "text/plain": [
       "array([66, 59, 49, 60, 55, 55, 51, 55])"
      ]
     },
     "execution_count": 47,
     "metadata": {},
     "output_type": "execute_result"
    }
   ],
   "source": [
    "b[2]"
   ]
  },
  {
   "cell_type": "code",
   "execution_count": null,
   "id": "c3cd8b13-1938-4851-bf09-11e41487154b",
   "metadata": {},
   "outputs": [],
   "source": [
    "array [ row_start : row end : row step]"
   ]
  },
  {
   "cell_type": "code",
   "execution_count": 35,
   "id": "b8987150-d36f-4a03-a00f-505c1b5a2e28",
   "metadata": {},
   "outputs": [
    {
     "data": {
      "text/plain": [
       "array([[60, 69, 65, 52, 49, 52, 50, 53],\n",
       "       [65, 60, 65, 48, 59, 46, 69, 46],\n",
       "       [66, 59, 49, 60, 55, 55, 51, 55],\n",
       "       [60, 56, 58, 60, 55, 49, 57, 55],\n",
       "       [65, 50, 63, 64, 54, 52, 59, 49],\n",
       "       [68, 45, 47, 50, 63, 61, 60, 67],\n",
       "       [56, 59, 64, 63, 69, 45, 48, 48]])"
      ]
     },
     "execution_count": 35,
     "metadata": {},
     "output_type": "execute_result"
    }
   ],
   "source": [
    "b"
   ]
  },
  {
   "cell_type": "code",
   "execution_count": 39,
   "id": "ac491ad0-fd28-4248-bdb0-64138412d0d4",
   "metadata": {},
   "outputs": [
    {
     "data": {
      "text/plain": [
       "array([[65, 60, 65, 48, 59, 46, 69, 46],\n",
       "       [60, 56, 58, 60, 55, 49, 57, 55],\n",
       "       [68, 45, 47, 50, 63, 61, 60, 67]])"
      ]
     },
     "execution_count": 39,
     "metadata": {},
     "output_type": "execute_result"
    }
   ],
   "source": [
    "b[1:6:2,]"
   ]
  },
  {
   "cell_type": "code",
   "execution_count": null,
   "id": "6af0df76-cbd6-44c3-8e04-49aaa179b5a2",
   "metadata": {},
   "outputs": [],
   "source": [
    "array [ row_start : row end : row step , col_start : col _end : col_step]"
   ]
  },
  {
   "cell_type": "code",
   "execution_count": 43,
   "id": "81ecb3b6-86db-4520-bc50-e07da6fedd5e",
   "metadata": {},
   "outputs": [
    {
     "data": {
      "text/plain": [
       "array([[60, 69, 65, 52, 49, 52, 50, 53],\n",
       "       [65, 60, 65, 48, 59, 46, 69, 46],\n",
       "       [66, 59, 49, 60, 55, 55, 51, 55],\n",
       "       [60, 56, 58, 60, 55, 49, 57, 55],\n",
       "       [65, 50, 63, 64, 54, 52, 59, 49],\n",
       "       [68, 45, 47, 50, 63, 61, 60, 67],\n",
       "       [56, 59, 64, 63, 69, 45, 48, 48]])"
      ]
     },
     "execution_count": 43,
     "metadata": {},
     "output_type": "execute_result"
    }
   ],
   "source": [
    "b"
   ]
  },
  {
   "cell_type": "code",
   "execution_count": 49,
   "id": "7949022a-3ab4-4c81-92ad-6c7f6d745029",
   "metadata": {},
   "outputs": [
    {
     "data": {
      "text/plain": [
       "array([[60, 65, 48, 59, 46],\n",
       "       [56, 58, 60, 55, 49],\n",
       "       [45, 47, 50, 63, 61]])"
      ]
     },
     "execution_count": 49,
     "metadata": {},
     "output_type": "execute_result"
    }
   ],
   "source": [
    "b[1:6:2,1:6]"
   ]
  },
  {
   "cell_type": "code",
   "execution_count": 51,
   "id": "9786b6ca-54a0-4ef6-b198-3ed8fa19fb35",
   "metadata": {},
   "outputs": [
    {
     "data": {
      "text/plain": [
       "array([[60, 69, 65, 52, 49, 52, 50, 53],\n",
       "       [65, 60, 65, 48, 59, 46, 69, 46],\n",
       "       [66, 59, 49, 60, 55, 55, 51, 55],\n",
       "       [60, 56, 58, 60, 55, 49, 57, 55],\n",
       "       [65, 50, 63, 64, 54, 52, 59, 49],\n",
       "       [68, 45, 47, 50, 63, 61, 60, 67],\n",
       "       [56, 59, 64, 63, 69, 45, 48, 48]])"
      ]
     },
     "execution_count": 51,
     "metadata": {},
     "output_type": "execute_result"
    }
   ],
   "source": [
    "b"
   ]
  },
  {
   "cell_type": "code",
   "execution_count": 53,
   "id": "3e5b970d-b7b4-4380-b9c4-f0a786e3ec14",
   "metadata": {},
   "outputs": [
    {
     "data": {
      "text/plain": [
       "array([[65, 60, 65, 48, 59, 46, 69, 46],\n",
       "       [60, 56, 58, 60, 55, 49, 57, 55],\n",
       "       [68, 45, 47, 50, 63, 61, 60, 67]])"
      ]
     },
     "execution_count": 53,
     "metadata": {},
     "output_type": "execute_result"
    }
   ],
   "source": [
    "b[1:6:2]"
   ]
  },
  {
   "cell_type": "code",
   "execution_count": 59,
   "id": "31a02df4-5c0d-4c21-a209-84b84eb28d9b",
   "metadata": {},
   "outputs": [
    {
     "data": {
      "text/plain": [
       "array([[60, 59, 46],\n",
       "       [56, 55, 55],\n",
       "       [45, 63, 67]])"
      ]
     },
     "execution_count": 59,
     "metadata": {},
     "output_type": "execute_result"
    }
   ],
   "source": [
    "b[1:6:2, 1:8:3]"
   ]
  },
  {
   "cell_type": "code",
   "execution_count": null,
   "id": "c7c0de76-2d7e-4f58-a4b3-63c79af00446",
   "metadata": {},
   "outputs": [],
   "source": []
  }
 ],
 "metadata": {
  "kernelspec": {
   "display_name": "Python [conda env:base] *",
   "language": "python",
   "name": "conda-base-py"
  },
  "language_info": {
   "codemirror_mode": {
    "name": "ipython",
    "version": 3
   },
   "file_extension": ".py",
   "mimetype": "text/x-python",
   "name": "python",
   "nbconvert_exporter": "python",
   "pygments_lexer": "ipython3",
   "version": "3.12.7"
  }
 },
 "nbformat": 4,
 "nbformat_minor": 5
}
