{
 "cells": [
  {
   "cell_type": "code",
   "execution_count": null,
   "id": "f9e78f63-0ca8-4393-baca-677fda48ad1f",
   "metadata": {},
   "outputs": [],
   "source": []
  }
 ],
 "metadata": {
  "kernelspec": {
   "display_name": "",
   "name": ""
  },
  "language_info": {
   "name": ""
  }
 },
 "nbformat": 4,
 "nbformat_minor": 5
}
