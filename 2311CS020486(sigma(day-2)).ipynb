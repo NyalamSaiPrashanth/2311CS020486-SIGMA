{
 "cells": [
  {
   "cell_type": "code",
   "execution_count": null,
   "id": "656816e5-e936-4cc3-8cb4-7304977e4a6d",
   "metadata": {},
   "outputs": [],
   "source": []
  }
 ],
 "metadata": {
  "kernelspec": {
   "display_name": "",
   "name": ""
  },
  "language_info": {
   "name": ""
  }
 },
 "nbformat": 4,
 "nbformat_minor": 5
}
